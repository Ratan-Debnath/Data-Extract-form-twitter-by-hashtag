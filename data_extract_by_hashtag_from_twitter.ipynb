{
 "cells": [
  {
   "cell_type": "code",
   "execution_count": 45,
   "metadata": {},
   "outputs": [
    {
     "name": "stdout",
     "output_type": "stream",
     "text": [
      "Requirement already satisfied: tweepy in c:\\anaconda\\lib\\site-packages (3.10.0)\n",
      "Requirement already satisfied: requests[socks]>=2.11.1 in c:\\anaconda\\lib\\site-packages (from tweepy) (2.24.0)\n",
      "Requirement already satisfied: requests-oauthlib>=0.7.0 in c:\\anaconda\\lib\\site-packages (from tweepy) (1.3.0)\n",
      "Requirement already satisfied: six>=1.10.0 in c:\\anaconda\\lib\\site-packages (from tweepy) (1.15.0)\n",
      "Requirement already satisfied: certifi>=2017.4.17 in c:\\anaconda\\lib\\site-packages (from requests[socks]>=2.11.1->tweepy) (2020.6.20)\n",
      "Requirement already satisfied: urllib3!=1.25.0,!=1.25.1,<1.26,>=1.21.1 in c:\\anaconda\\lib\\site-packages (from requests[socks]>=2.11.1->tweepy) (1.25.11)\n",
      "Requirement already satisfied: chardet<4,>=3.0.2 in c:\\anaconda\\lib\\site-packages (from requests[socks]>=2.11.1->tweepy) (3.0.4)\n",
      "Requirement already satisfied: idna<3,>=2.5 in c:\\anaconda\\lib\\site-packages (from requests[socks]>=2.11.1->tweepy) (2.10)\n",
      "Requirement already satisfied: PySocks!=1.5.7,>=1.5.6; extra == \"socks\" in c:\\anaconda\\lib\\site-packages (from requests[socks]>=2.11.1->tweepy) (1.7.1)\n",
      "Requirement already satisfied: oauthlib>=3.0.0 in c:\\anaconda\\lib\\site-packages (from requests-oauthlib>=0.7.0->tweepy) (3.1.0)\n"
     ]
    }
   ],
   "source": [
    "!pip install tweepy\n",
    "import numpy as np\n",
    "import pandas as pd\n",
    "import tweepy as tw   # to extract the twitter data\n",
    "from tqdm import tqdm #make a terminal progress bar"
   ]
  },
  {
   "cell_type": "code",
   "execution_count": 46,
   "metadata": {},
   "outputs": [],
   "source": [
    "consumer_api_key = '3AFWzGWuNE08ivKj3mr8IcWDm'\n",
    "consumer_api_secret = 'T0B7OU27BbR2ZwwALoxhLCgywAkAB3L8lGPx1yWxyvaiMrLr5X'"
   ]
  },
  {
   "cell_type": "code",
   "execution_count": 47,
   "metadata": {},
   "outputs": [],
   "source": [
    "auth = tw.OAuthHandler(consumer_api_key, consumer_api_secret)\n",
    "api = tw.API(auth, wait_on_rate_limit=True)"
   ]
  },
  {
   "cell_type": "code",
   "execution_count": 78,
   "metadata": {},
   "outputs": [],
   "source": [
    "search_tweets_by_hashtag = \"#CovidVaccine\"   #Add require hashtags \n",
    "date_since = \"\"\n",
    "date_until = \"\"\n",
    "#collect tweets function\n",
    "tweets = tw.Cursor(api.search,\n",
    "                  q=search_tweets_by_hashtag,\n",
    "                  lang=\"en\",\n",
    "                  since=date_since,\n",
    "                  untill=date_until\n",
    "                  ).items(15000)"
   ]
  },
  {
   "cell_type": "code",
   "execution_count": 79,
   "metadata": {},
   "outputs": [
    {
     "name": "stderr",
     "output_type": "stream",
     "text": [
      "15000it [26:20,  9.49it/s]\n"
     ]
    }
   ],
   "source": [
    "tweets_copy = []\n",
    "for tweet in tqdm(tweets):\n",
    "    tweets_copy.append(tweet)"
   ]
  },
  {
   "cell_type": "code",
   "execution_count": 80,
   "metadata": {},
   "outputs": [
    {
     "name": "stdout",
     "output_type": "stream",
     "text": [
      "New tweets retrieved: 15000\n"
     ]
    }
   ],
   "source": [
    "print(f\"New tweets retrieved: {len(tweets_copy)}\")"
   ]
  },
  {
   "cell_type": "code",
   "execution_count": 81,
   "metadata": {},
   "outputs": [
    {
     "name": "stderr",
     "output_type": "stream",
     "text": [
      "100%|██████████| 15000/15000 [02:01<00:00, 123.61it/s]\n"
     ]
    }
   ],
   "source": [
    "tweets_df = pd.DataFrame()\n",
    "for tweet in tqdm(tweets_copy):\n",
    "    hashtags = []\n",
    "    try:\n",
    "        for hashtag in tweet.entities[\"hashtags\"]:\n",
    "            hashtags.append(hashtag[\"text\"])\n",
    "    except:\n",
    "        pass\n",
    "    tweets_df = tweets_df.append(pd.DataFrame({'user_name': tweet.user.name,\n",
    "                                               'user_location': tweet.user.location,\n",
    "                                              'date': tweet.created_at,\n",
    "                                              'text/tweet': tweet.text,\n",
    "                                              'text_id': tweet.id,\n",
    "                                              'hashtags': [hashtags if hashtags else None],\n",
    "                                              'user_verified': tweet.user.verified\n",
    "                                               }, index=[0]))\n"
   ]
  },
  {
   "cell_type": "code",
   "execution_count": 82,
   "metadata": {},
   "outputs": [
    {
     "data": {
      "text/html": [
       "<div>\n",
       "<style scoped>\n",
       "    .dataframe tbody tr th:only-of-type {\n",
       "        vertical-align: middle;\n",
       "    }\n",
       "\n",
       "    .dataframe tbody tr th {\n",
       "        vertical-align: top;\n",
       "    }\n",
       "\n",
       "    .dataframe thead th {\n",
       "        text-align: right;\n",
       "    }\n",
       "</style>\n",
       "<table border=\"1\" class=\"dataframe\">\n",
       "  <thead>\n",
       "    <tr style=\"text-align: right;\">\n",
       "      <th></th>\n",
       "      <th>user_name</th>\n",
       "      <th>user_location</th>\n",
       "      <th>date</th>\n",
       "      <th>text/tweet</th>\n",
       "      <th>text_id</th>\n",
       "      <th>hashtags</th>\n",
       "      <th>user_verified</th>\n",
       "    </tr>\n",
       "  </thead>\n",
       "  <tbody>\n",
       "    <tr>\n",
       "      <th>0</th>\n",
       "      <td>Stef 🇪🇺💙</td>\n",
       "      <td>London - Buckingham Palace</td>\n",
       "      <td>2021-06-20 10:02:17</td>\n",
       "      <td>RT @CityAM: Fancy a Covid jab? Here are all th...</td>\n",
       "      <td>1406552979428216838</td>\n",
       "      <td>None</td>\n",
       "      <td>False</td>\n",
       "    </tr>\n",
       "    <tr>\n",
       "      <th>0</th>\n",
       "      <td>Ramzi Khamis</td>\n",
       "      <td>London</td>\n",
       "      <td>2021-06-20 10:01:33</td>\n",
       "      <td>RT @kidneydoc101: Still many doses #COVIDVacci...</td>\n",
       "      <td>1406552793641631744</td>\n",
       "      <td>[COVIDVaccine]</td>\n",
       "      <td>False</td>\n",
       "    </tr>\n",
       "    <tr>\n",
       "      <th>0</th>\n",
       "      <td>Paul Terry</td>\n",
       "      <td>Warrington</td>\n",
       "      <td>2021-06-20 10:01:21</td>\n",
       "      <td>RT @NHSEnglandLDN: No 2pm kick-off this Sunday...</td>\n",
       "      <td>1406552744564035586</td>\n",
       "      <td>None</td>\n",
       "      <td>False</td>\n",
       "    </tr>\n",
       "    <tr>\n",
       "      <th>0</th>\n",
       "      <td>17 June 🍾🥂</td>\n",
       "      <td>Soweto 🇿🇦</td>\n",
       "      <td>2021-06-20 10:01:06</td>\n",
       "      <td>RT @SolidarityRSA: I’ve already had COVID-19, ...</td>\n",
       "      <td>1406552682677035008</td>\n",
       "      <td>[CovidVaccine]</td>\n",
       "      <td>False</td>\n",
       "    </tr>\n",
       "    <tr>\n",
       "      <th>0</th>\n",
       "      <td>harsh</td>\n",
       "      <td>Mumbai, India</td>\n",
       "      <td>2021-06-20 10:00:47</td>\n",
       "      <td>trying to book 1st vaccine for myself (27 yo)....</td>\n",
       "      <td>1406552600749645828</td>\n",
       "      <td>None</td>\n",
       "      <td>False</td>\n",
       "    </tr>\n",
       "    <tr>\n",
       "      <th>...</th>\n",
       "      <td>...</td>\n",
       "      <td>...</td>\n",
       "      <td>...</td>\n",
       "      <td>...</td>\n",
       "      <td>...</td>\n",
       "      <td>...</td>\n",
       "      <td>...</td>\n",
       "    </tr>\n",
       "    <tr>\n",
       "      <th>0</th>\n",
       "      <td>Pat Montague</td>\n",
       "      <td>Drumcondra, Dublin, Ireland</td>\n",
       "      <td>2021-06-15 17:39:28</td>\n",
       "      <td>RT @ZaraKing: #NEW 💉 🇮🇪 \\n\\nHSE Chief Executiv...</td>\n",
       "      <td>1404856092941860868</td>\n",
       "      <td>[NEW, AstraZeneca]</td>\n",
       "      <td>False</td>\n",
       "    </tr>\n",
       "    <tr>\n",
       "      <th>0</th>\n",
       "      <td>Diana Princess 🇺🇸</td>\n",
       "      <td>Los Angeles, CA</td>\n",
       "      <td>2021-06-15 17:39:21</td>\n",
       "      <td>RT @DrJohnB2: Dr. Malone (inventor of mRNA vac...</td>\n",
       "      <td>1404856064818835457</td>\n",
       "      <td>None</td>\n",
       "      <td>False</td>\n",
       "    </tr>\n",
       "    <tr>\n",
       "      <th>0</th>\n",
       "      <td>David F. Dodge</td>\n",
       "      <td>Le Roy, NY</td>\n",
       "      <td>2021-06-15 17:39:08</td>\n",
       "      <td>It didn’t have to be this way! May they rest i...</td>\n",
       "      <td>1404856011396165634</td>\n",
       "      <td>[COVID19, COVIDVaccination, CovidVaccine]</td>\n",
       "      <td>False</td>\n",
       "    </tr>\n",
       "    <tr>\n",
       "      <th>0</th>\n",
       "      <td>Tabasum</td>\n",
       "      <td>Hyderabad, India</td>\n",
       "      <td>2021-06-15 17:37:27</td>\n",
       "      <td>#IndiaArmy Provided Recovery assistance to civ...</td>\n",
       "      <td>1404855588572434432</td>\n",
       "      <td>[IndiaArmy, Dharal, Rajouri, JK, Poonch, India...</td>\n",
       "      <td>False</td>\n",
       "    </tr>\n",
       "    <tr>\n",
       "      <th>0</th>\n",
       "      <td>Hindustan Times</td>\n",
       "      <td>India</td>\n",
       "      <td>2021-06-15 17:37:10</td>\n",
       "      <td>RT @htpune: 70% of school teachers have receiv...</td>\n",
       "      <td>1404855513397989378</td>\n",
       "      <td>[CovidVaccine]</td>\n",
       "      <td>True</td>\n",
       "    </tr>\n",
       "  </tbody>\n",
       "</table>\n",
       "<p>15000 rows × 7 columns</p>\n",
       "</div>"
      ],
      "text/plain": [
       "            user_name                user_location                date  \\\n",
       "0            Stef 🇪🇺💙   London - Buckingham Palace 2021-06-20 10:02:17   \n",
       "0        Ramzi Khamis                       London 2021-06-20 10:01:33   \n",
       "0          Paul Terry                   Warrington 2021-06-20 10:01:21   \n",
       "0          17 June 🍾🥂                    Soweto 🇿🇦 2021-06-20 10:01:06   \n",
       "0               harsh                Mumbai, India 2021-06-20 10:00:47   \n",
       "..                ...                          ...                 ...   \n",
       "0        Pat Montague  Drumcondra, Dublin, Ireland 2021-06-15 17:39:28   \n",
       "0   Diana Princess 🇺🇸              Los Angeles, CA 2021-06-15 17:39:21   \n",
       "0      David F. Dodge                   Le Roy, NY 2021-06-15 17:39:08   \n",
       "0             Tabasum             Hyderabad, India 2021-06-15 17:37:27   \n",
       "0     Hindustan Times                        India 2021-06-15 17:37:10   \n",
       "\n",
       "                                           text/tweet              text_id  \\\n",
       "0   RT @CityAM: Fancy a Covid jab? Here are all th...  1406552979428216838   \n",
       "0   RT @kidneydoc101: Still many doses #COVIDVacci...  1406552793641631744   \n",
       "0   RT @NHSEnglandLDN: No 2pm kick-off this Sunday...  1406552744564035586   \n",
       "0   RT @SolidarityRSA: I’ve already had COVID-19, ...  1406552682677035008   \n",
       "0   trying to book 1st vaccine for myself (27 yo)....  1406552600749645828   \n",
       "..                                                ...                  ...   \n",
       "0   RT @ZaraKing: #NEW 💉 🇮🇪 \\n\\nHSE Chief Executiv...  1404856092941860868   \n",
       "0   RT @DrJohnB2: Dr. Malone (inventor of mRNA vac...  1404856064818835457   \n",
       "0   It didn’t have to be this way! May they rest i...  1404856011396165634   \n",
       "0   #IndiaArmy Provided Recovery assistance to civ...  1404855588572434432   \n",
       "0   RT @htpune: 70% of school teachers have receiv...  1404855513397989378   \n",
       "\n",
       "                                             hashtags  user_verified  \n",
       "0                                                None          False  \n",
       "0                                      [COVIDVaccine]          False  \n",
       "0                                                None          False  \n",
       "0                                      [CovidVaccine]          False  \n",
       "0                                                None          False  \n",
       "..                                                ...            ...  \n",
       "0                                  [NEW, AstraZeneca]          False  \n",
       "0                                                None          False  \n",
       "0           [COVID19, COVIDVaccination, CovidVaccine]          False  \n",
       "0   [IndiaArmy, Dharal, Rajouri, JK, Poonch, India...          False  \n",
       "0                                      [CovidVaccine]           True  \n",
       "\n",
       "[15000 rows x 7 columns]"
      ]
     },
     "execution_count": 82,
     "metadata": {},
     "output_type": "execute_result"
    }
   ],
   "source": [
    "tweets_df"
   ]
  },
  {
   "cell_type": "code",
   "execution_count": 83,
   "metadata": {},
   "outputs": [],
   "source": [
    "tweets_df.to_csv('CovidVaccine_data.csv', index=False)"
   ]
  },
  {
   "cell_type": "code",
   "execution_count": null,
   "metadata": {},
   "outputs": [],
   "source": []
  }
 ],
 "metadata": {
  "kernelspec": {
   "display_name": "Python 3",
   "language": "python",
   "name": "python3"
  },
  "language_info": {
   "codemirror_mode": {
    "name": "ipython",
    "version": 3
   },
   "file_extension": ".py",
   "mimetype": "text/x-python",
   "name": "python",
   "nbconvert_exporter": "python",
   "pygments_lexer": "ipython3",
   "version": "3.8.5"
  }
 },
 "nbformat": 4,
 "nbformat_minor": 4
}
